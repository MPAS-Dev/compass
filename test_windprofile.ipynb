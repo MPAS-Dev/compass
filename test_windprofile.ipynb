{
 "cells": [
  {
   "cell_type": "code",
   "execution_count": 1,
   "metadata": {},
   "outputs": [],
   "source": [
    "import os\n",
    "import shutil\n",
    "import numpy as np\n",
    "import xarray as xr\n",
    "from mpas_tools.io import write_netcdf\n",
    "import argparse\n",
    "import math\n",
    "import time\n",
    "import bisect\n",
    "import matplotlib.pyplot as plt"
   ]
  },
  {
   "cell_type": "code",
   "execution_count": 2,
   "metadata": {},
   "outputs": [],
   "source": [
    "ytau = np.zeros(7)\n",
    "taud = np.zeros(7)\n",
    "ytau[:] = np.array([-70.,-45.,-15.,0.,15.,45.,70.])*np.pi/180.\n",
    "taud[:] = np.array([0,.2,-0.1,-.02,-.1,.1,0])"
   ]
  },
  {
   "cell_type": "code",
   "execution_count": 92,
   "metadata": {},
   "outputs": [],
   "source": [
    "latCell = 75.*np.pi/180."
   ]
  },
  {
   "cell_type": "code",
   "execution_count": 93,
   "metadata": {},
   "outputs": [
    {
     "data": {
      "text/plain": [
       "7"
      ]
     },
     "execution_count": 93,
     "metadata": {},
     "output_type": "execute_result"
    }
   ],
   "source": [
    "bisect.bisect_right(ytau,latCell)"
   ]
  },
  {
   "cell_type": "code",
   "execution_count": 94,
   "metadata": {},
   "outputs": [
    {
     "data": {
      "text/plain": [
       "7"
      ]
     },
     "execution_count": 94,
     "metadata": {},
     "output_type": "execute_result"
    }
   ],
   "source": [
    "bisect.bisect_left(ytau,latCell)"
   ]
  },
  {
   "cell_type": "code",
   "execution_count": 15,
   "metadata": {},
   "outputs": [],
   "source": [
    "latCell = np.arange(-69.5, 70, 1)*np.pi/180."
   ]
  },
  {
   "cell_type": "code",
   "execution_count": 10,
   "metadata": {},
   "outputs": [],
   "source": [
    "latCell = np.arange(-75, 75, 1)*np.pi/180."
   ]
  },
  {
   "cell_type": "code",
   "execution_count": 123,
   "metadata": {},
   "outputs": [
    {
     "data": {
      "text/plain": [
       "150"
      ]
     },
     "execution_count": 123,
     "metadata": {},
     "output_type": "execute_result"
    }
   ],
   "source": [
    "len(latCell)"
   ]
  },
  {
   "cell_type": "code",
   "execution_count": 11,
   "metadata": {},
   "outputs": [],
   "source": [
    "bb = np.zeros(len(latCell))\n",
    "kk = np.zeros(len(latCell))\n",
    "windStressZonal = np.zeros(len(latCell))"
   ]
  },
  {
   "cell_type": "code",
   "execution_count": 12,
   "metadata": {},
   "outputs": [],
   "source": [
    "for iCell in np.arange(len(latCell)):\n",
    "    #bb[iCell]=bisect.bisect_right(ytau,latCell[iCell])\n",
    "    #print(iCell,latCell[iCell]*180/np.pi)\n",
    "    #print(iCell,  max(0, np.int(bb[iCell]) - 1))\n",
    "    #kk[iCell] = min(max(0, (np.int(bb[iCell]) - 1)), len(ytau)-2)\n",
    "    ks= min(max(0, bisect.bisect_right(ytau,latCell[iCell]) - 1), len(ytau)-2)\n",
    "    windStressZonal[iCell] = taud[ks] + ( taud[ks+1] - taud[ks]) * scurve(latCell[iCell], ytau[ks], ytau[ks+1]-ytau[ks])\n",
    "    #print(iCell,latCell[iCell]*180/np.pi, bb[iCell],  kk[iCell], windStressZonal[iCell])"
   ]
  },
  {
   "cell_type": "code",
   "execution_count": 6,
   "metadata": {},
   "outputs": [],
   "source": [
    "def scurve(x, x0, dx):\n",
    "    \"\"\"Returns 0 for x<x0 or x>x+dx, and a cubic in between.\"\"\"\n",
    "    s = np.minimum(1, np.maximum(0, (x-x0)/dx))\n",
    "    return (3 - 2*s)*( s*s )"
   ]
  },
  {
   "cell_type": "code",
   "execution_count": 13,
   "metadata": {},
   "outputs": [
    {
     "data": {
      "text/plain": [
       "[<matplotlib.lines.Line2D at 0x2b54a101b760>]"
      ]
     },
     "execution_count": 13,
     "metadata": {},
     "output_type": "execute_result"
    },
    {
     "data": {
      "image/png": "[encoded data removed]",
      "text/plain": [
       "<Figure size 432x288 with 1 Axes>"
      ]
     },
     "metadata": {
      "needs_background": "light"
     },
     "output_type": "display_data"
    }
   ],
   "source": [
    "plt.plot(latCell, windStressZonal, '+')\n",
    "plt.plot(ytau, taud, '+r')"
   ]
  },
  {
   "cell_type": "code",
   "execution_count": null,
   "metadata": {},
   "outputs": [],
   "source": [
    "Ref from wind_profile (neverWorld2)"
   ]
  },
  {
   "cell_type": "code",
   "execution_count": 87,
   "metadata": {},
   "outputs": [
    {
     "data": {
      "image/png": "[encoded data removed]",
      "text/plain": [
       "<Figure size 432x288 with 1 Axes>"
      ]
     },
     "metadata": {
      "needs_background": "light"
     },
     "output_type": "display_data"
    }
   ],
   "source": [
    "def itau(ytau,taud,ys):\n",
    "    \"\"\"Returns a profile tau(ys) that uses s-curves between node,valuesa ytau,taud\"\"\"\n",
    "    taus = 0.*ys\n",
    "    ks = 0\n",
    "    for i in range(len(ys)):\n",
    "        y = ys[i]\n",
    "        if y>=ytau[ks+1]:\n",
    "            ks=min(len(ytau)-2,ks+1)\n",
    "        taus[i] = taud[ks] + ( taud[ks+1] - taud[ks]) * scurve(y, ytau[ks], ytau[ks+1]-ytau[ks])\n",
    "    return taus\n",
    "ytau,taud = [-70,-45,-15,0,15,45,70], [0,.2,-0.1,-.02,-.1,.1,0]\n",
    "ys = np.linspace(-70,70,100)\n",
    "tau = itau(ytau, taud, ys)\n",
    "plt.plot(ytau,taud,'x')\n",
    "plt.plot(ys, tau)\n",
    "plt.xlim(-70,70);\n",
    "plt.xlabel('Latitude ($^\\circ$N)');\n",
    "plt.ylabel(r'$\\tau$ (Pa)');\n",
    "plt.grid();"
   ]
  },
  {
   "cell_type": "code",
   "execution_count": null,
   "metadata": {},
   "outputs": [],
   "source": []
  }
 ],
 "metadata": {
  "kernelspec": {
   "display_name": "Python 3",
   "language": "python",
   "name": "python3"
  },
  "language_info": {
   "codemirror_mode": {
    "name": "ipython",
    "version": 3
   },
   "file_extension": ".py",
   "mimetype": "text/x-python",
   "name": "python",
   "nbconvert_exporter": "python",
   "pygments_lexer": "ipython3",
   "version": "3.8.6"
  }
 },
 "nbformat": 4,
 "nbformat_minor": 4
}
